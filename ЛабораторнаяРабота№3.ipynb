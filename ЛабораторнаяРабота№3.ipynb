{
  "nbformat": 4,
  "nbformat_minor": 0,
  "metadata": {
    "colab": {
      "provenance": [],
      "authorship_tag": "ABX9TyNxqYBetg+pJOFzZ+W+eNXt",
      "include_colab_link": true
    },
    "kernelspec": {
      "name": "python3",
      "display_name": "Python 3"
    },
    "language_info": {
      "name": "python"
    }
  },
  "cells": [
    {
      "cell_type": "markdown",
      "metadata": {
        "id": "view-in-github",
        "colab_type": "text"
      },
      "source": [
        "<a href=\"https://colab.research.google.com/github/sssaaammmuuurrraaaiii/Intellectual-Data-Mining/blob/main/%D0%9B%D0%B0%D0%B1%D0%BE%D1%80%D0%B0%D1%82%D0%BE%D1%80%D0%BD%D0%B0%D1%8F%D0%A0%D0%B0%D0%B1%D0%BE%D1%82%D0%B0%E2%84%963.ipynb\" target=\"_parent\"><img src=\"https://colab.research.google.com/assets/colab-badge.svg\" alt=\"Open In Colab\"/></a>"
      ]
    },
    {
      "cell_type": "markdown",
      "source": [
        "**Лабораторная работа №3** по дисциплине \"*Интеллектуальный анализх данных в медицине*\".\n",
        "--------------------------------------------\n",
        "____________________________________________\n",
        "**Выполнил:** Болотский Никита Николаевич, студент 2 курса магистратуры группы 1582621 ИПИТ ТГПУ им. Л. Н. Толстого."
      ],
      "metadata": {
        "id": "2vlK_lD3x8KR"
      }
    },
    {
      "cell_type": "markdown",
      "source": [
        "_____________________________________________\n",
        "**ЭТАПЫ ВЫПОЛНЕНИЯ**"
      ],
      "metadata": {
        "id": "fGWjC1vgzWub"
      }
    },
    {
      "cell_type": "markdown",
      "source": [
        "1. Установка библиотеки для анализа данных **pandas** (если таковой не был установлен заранее)"
      ],
      "metadata": {
        "id": "Z6EuHaA0zuk9"
      }
    },
    {
      "cell_type": "code",
      "execution_count": null,
      "metadata": {
        "colab": {
          "base_uri": "https://localhost:8080/"
        },
        "id": "rXYjvsw9xxHF",
        "outputId": "105d261f-e4d1-44e7-c67c-3129bbb437f3"
      },
      "outputs": [
        {
          "output_type": "stream",
          "name": "stdout",
          "text": [
            "Requirement already satisfied: pandas in /usr/local/lib/python3.10/dist-packages (1.5.3)\n",
            "Requirement already satisfied: python-dateutil>=2.8.1 in /usr/local/lib/python3.10/dist-packages (from pandas) (2.8.2)\n",
            "Requirement already satisfied: pytz>=2020.1 in /usr/local/lib/python3.10/dist-packages (from pandas) (2023.4)\n",
            "Requirement already satisfied: numpy>=1.21.0 in /usr/local/lib/python3.10/dist-packages (from pandas) (1.23.5)\n",
            "Requirement already satisfied: six>=1.5 in /usr/local/lib/python3.10/dist-packages (from python-dateutil>=2.8.1->pandas) (1.16.0)\n"
          ]
        }
      ],
      "source": [
        "!pip install pandas"
      ]
    },
    {
      "cell_type": "markdown",
      "source": [
        "2. Импорт установленной библиотеки"
      ],
      "metadata": {
        "id": "3dwszzqh0IuM"
      }
    },
    {
      "cell_type": "code",
      "source": [
        "import pandas as pd"
      ],
      "metadata": {
        "id": "8XAIwRTF0mWt"
      },
      "execution_count": null,
      "outputs": []
    },
    {
      "cell_type": "markdown",
      "source": [
        "3.   Импорт библиотеки, реализующей интерфейс взаимодействия с базовой операционной системой\n",
        "_______________________________________________________________________________\n",
        "Создание переменной для хранения строки, содержащей путь до текущей рабочей дирректории"
      ],
      "metadata": {
        "id": "F6_Yg-Yp0xJX"
      }
    },
    {
      "cell_type": "code",
      "source": [
        "import os\n",
        "\n",
        "current_dirrectory = os.getcwd()\n",
        "print(current_dirrectory)"
      ],
      "metadata": {
        "colab": {
          "base_uri": "https://localhost:8080/"
        },
        "id": "MSXLCxdr1FOw",
        "outputId": "29320856-f5dc-497f-8e02-064f47a59db9"
      },
      "execution_count": null,
      "outputs": [
        {
          "output_type": "stream",
          "name": "stdout",
          "text": [
            "/content\n"
          ]
        }
      ]
    },
    {
      "cell_type": "markdown",
      "source": [
        "**Основная функция** (любое действие начинается ЗДЕСЬ!!!)"
      ],
      "metadata": {
        "id": "evK3a_D5YBah"
      }
    },
    {
      "cell_type": "code",
      "source": [
        "def main_menu():\n",
        "  while True:\n",
        "    print()\n",
        "    print()\n",
        "    print(\" ________[Интеллектуальный аналих данных в медицине]________\")\n",
        "    print(\"[=================<Лабораторная Работа №3>==================]\")\n",
        "    print(\"[                                                           ]\")\n",
        "    print(\"[ {0}  ===  [Показать Набор Данных в Виде Таблицы]  ======  ]\")\n",
        "    print(\"[ {1}  ===  [Вывести Количество Строк и Столбцов]  =======  ]\")\n",
        "    print(\"[ {2}  ===  [Вывести Количество Уникальных Строк]  =======  ]\")\n",
        "    print(\"[ {3}  ===  [Удалить Неполные/Пустые Строки]  ============  ]\")\n",
        "    print(\"[ {4}  ===  [Создать Новую Таблицу без Неполных Строк]  ==  ]\")\n",
        "    print(\"[ {5}  ===  [Определить Среднюю Длину]  ==================  ]\")\n",
        "    print(\"[ {6}  ===  [Определить Наиболее Коррелирующий Признак]  =  ]\")\n",
        "    print(\"[ {7}  ===  [Построение Диаграмм]=========================  ]\")\n",
        "    print(\"[ {8}  ===  [Завершить Текущий Сеанс]=====================  ]\")\n",
        "    print(\"[                                                           ]\")\n",
        "    print(\"[===========================================================]\")\n",
        "    print(\" -----------------------------------------------------------\")\n",
        "    print()\n",
        "\n",
        "    try:\n",
        "      action_to_do = int(input(\"Выберите Действие -->> \"))\n",
        "    except ValueError:\n",
        "      print(\"Неккоректный пользовательский ввод данных!\")\n",
        "      print(\"Проверьте корректность введённых данных и повторите попытку!\")\n",
        "    else:\n",
        "      match action_to_do:\n",
        "        case 0:\n",
        "          pass\n",
        "        case 1:\n",
        "          pass\n",
        "        case 2:\n",
        "          pass\n",
        "        case 3:\n",
        "          pass\n",
        "        case 4:\n",
        "          pass\n",
        "        case 5:\n",
        "          pass\n",
        "        case 6:\n",
        "          pass\n",
        "        case 7:\n",
        "          pass\n",
        "        case 8:\n",
        "          break\n",
        "        case _:\n",
        "          print(\"Неккоректный пользовательский ввод данных!\")\n",
        "          print(\"Проверьте корректность введённых данных и повторите попытку!\")\n",
        "    finally:\n",
        "      main_menu()\n",
        "\n",
        "\n",
        "if __name__ == '__main__':\n",
        "    main_menu()"
      ],
      "metadata": {
        "id": "tQgmYk9Mc9aU"
      },
      "execution_count": null,
      "outputs": []
    }
  ]
}